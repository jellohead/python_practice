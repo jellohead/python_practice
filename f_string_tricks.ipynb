{
 "cells": [
  {
   "cell_type": "markdown",
   "metadata": {},
   "source": [
    "#### f string tricks"
   ]
  },
  {
   "cell_type": "code",
   "execution_count": 1,
   "metadata": {},
   "outputs": [
    {
     "name": "stdout",
     "output_type": "stream",
     "text": [
      "1000000000\n",
      "100_000_000\n",
      "100,000,000\n"
     ]
    }
   ],
   "source": [
    "n: int = 1_000_000_000\n",
    "print(n) #ignores the _ character used here to make the large number more readable\n",
    "\n",
    "n: int = 100000000\n",
    "print(f'{n:_}') #add in the _ character\n",
    "print(f'{n:,}') #add in a comma seperator"
   ]
  },
  {
   "cell_type": "code",
   "execution_count": 2,
   "metadata": {},
   "outputs": [
    {
     "name": "stdout",
     "output_type": "stream",
     "text": [
      "                 var:\n",
      "var                 :\n",
      "        var         :\n",
      "_________________var:\n",
      "var#################:\n",
      "||||||||var|||||||||:\n"
     ]
    }
   ],
   "source": [
    "var: str = 'var'\n",
    "\n",
    "print(f'{var:>20}:') #right align with a 20 character column. The colon I added just shows where the column ends.\n",
    "print(f'{var:<20}:') #left align with a 20 character column. This is the default so you can opt to leave out the <\n",
    "print(f'{var:^20}:') #left center with a 20 character column.\n",
    "print(f'{var:_>20}:') #you can print a fill character that will fill in all empty spaces in the column. Filling with _ here\n",
    "print(f'{var:#<20}:') #Fill with # for this column\n",
    "print(f'{var:|^20}:') #Fill with | on this one\n",
    "\n"
   ]
  },
  {
   "cell_type": "code",
   "execution_count": 3,
   "metadata": {},
   "outputs": [
    {
     "name": "stdout",
     "output_type": "stream",
     "text": [
      "21.02.24\n",
      "21.02.24 (16:59:06)\n",
      "Wed Feb 21 16:59:06 2024\n",
      "04PM\n"
     ]
    }
   ],
   "source": [
    "from datetime import datetime\n",
    "\n",
    "now: datetime = datetime.now()\n",
    "print(f'{now:%d.%m.%y}') #print current date\n",
    "print(f'{now:%d.%m.%y (%H:%M:%S)}') #print current date and time\n",
    "print(f'{now:%c}') #prints local version of date and time\n",
    "print(f'{now:%I%p}') #printe current hour in am/pm mode\n",
    "#many more specifiers available for date time formats"
   ]
  },
  {
   "cell_type": "code",
   "execution_count": 4,
   "metadata": {},
   "outputs": [
    {
     "name": "stdout",
     "output_type": "stream",
     "text": [
      "1234.5678\n",
      "1234.57\n",
      "1234.57\n",
      "Result: 1234.57\n",
      "Result: 1235\n",
      "Result: 1,234.568\n"
     ]
    }
   ],
   "source": [
    "n: float = 1234.5678\n",
    "print(n) #number with showing many decimal places\n",
    "print(round(n, 2)) #round to get desired number of decimals\n",
    "print(f'{n:.2f}') #same effect using f string instead of round\n",
    "print(f'Result: {n:.2f}') #add more descriptive text to print\n",
    "print(f'Result: {n:.0f}') #round and to remove the decimal portion\n",
    "print(f'Result: {n:,.3f}') #add a comma separator using f string\n"
   ]
  },
  {
   "cell_type": "code",
   "execution_count": 5,
   "metadata": {},
   "outputs": [
    {
     "name": "stdout",
     "output_type": "stream",
     "text": [
      "a + b = 15\n",
      "a + b = 15\n",
      "my_var = Bob says hi\n",
      "my_var = 'Bob says hi'\n"
     ]
    }
   ],
   "source": [
    "a: int = 5\n",
    "b: int = 10\n",
    "my_var: str = 'Bob says hi'\n",
    "\n",
    "print(f'a + b = {a + b}')\n",
    "print(f'{a + b = }') #same output without having to include extra a + b portion\n",
    "\n",
    "print(f'my_var = {my_var}')\n",
    "print(f'{my_var = }')\n",
    "\n"
   ]
  },
  {
   "cell_type": "code",
   "execution_count": 7,
   "metadata": {},
   "outputs": [
    {
     "name": "stdout",
     "output_type": "stream",
     "text": [
      "['a', 1, 'b', 2]\n"
     ]
    }
   ],
   "source": [
    "# This will give you a type exception since strings are included\n",
    "sample: list[int] = ['a', 1, 'b', 2]\n",
    "print(f'{sample}')\n"
   ]
  },
  {
   "cell_type": "code",
   "execution_count": 11,
   "metadata": {},
   "outputs": [],
   "source": [
    "def add2(a:int) -> int:\n",
    "    return a + 2"
   ]
  },
  {
   "cell_type": "code",
   "execution_count": 12,
   "metadata": {},
   "outputs": [
    {
     "name": "stdout",
     "output_type": "stream",
     "text": [
      "9\n"
     ]
    }
   ],
   "source": [
    "print(f'{add2(7)}')\n"
   ]
  }
 ],
 "metadata": {
  "kernelspec": {
   "display_name": "Python 3",
   "language": "python",
   "name": "python3"
  },
  "language_info": {
   "codemirror_mode": {
    "name": "ipython",
    "version": 3
   },
   "file_extension": ".py",
   "mimetype": "text/x-python",
   "name": "python",
   "nbconvert_exporter": "python",
   "pygments_lexer": "ipython3",
   "version": "3.10.6"
  }
 },
 "nbformat": 4,
 "nbformat_minor": 2
}
