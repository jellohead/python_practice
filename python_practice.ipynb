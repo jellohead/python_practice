{
 "cells": [
  {
   "cell_type": "code",
   "execution_count": 1,
   "metadata": {},
   "outputs": [
    {
     "name": "stdout",
     "output_type": "stream",
     "text": [
      "    Item  counts_x  counts_y\n",
      "0   tree        45        45\n",
      "1  house        44        12\n",
      "2  jello        34       234\n",
      "3     tv       786        67\n",
      "4   lamp        34        98\n"
     ]
    }
   ],
   "source": [
    "import pandas as pd\n",
    "\n",
    "# Read the Excel files into pandas DataFrames\n",
    "df1 = pd.read_excel('../python_practice/Book8.xlsx')\n",
    "df2 = pd.read_excel('../python_practice/Book9.xlsx')\n",
    "\n",
    "# Merge the DataFrames based on the first column (assuming it's named 'Item' in both tables)\n",
    "merged_df = pd.merge(df1, df2, on='Item')\n",
    "\n",
    "# Display the merged DataFrame\n",
    "print(merged_df)\n"
   ]
  },
  {
   "cell_type": "code",
   "execution_count": 5,
   "metadata": {},
   "outputs": [
    {
     "name": "stdout",
     "output_type": "stream",
     "text": [
      "house    2\n",
      "tree     2\n",
      "tv       2\n",
      "jello    2\n",
      "lamp     2\n",
      "frog     1\n",
      "Name: Item, dtype: int64\n"
     ]
    }
   ],
   "source": [
    "df3 = pd.read_excel('../python_practice/Book10.xlsx')\n",
    "\n",
    "totals = pd.value_counts(df3.Item)\n",
    "\n",
    "print(totals)"
   ]
  },
  {
   "cell_type": "code",
   "execution_count": 6,
   "metadata": {},
   "outputs": [
    {
     "name": "stdout",
     "output_type": "stream",
     "text": [
      "    Item  counts\n",
      "0   frog     657\n",
      "1  house      56\n",
      "2  jello     268\n",
      "3   lamp     132\n",
      "4   tree      90\n",
      "5     tv     853\n"
     ]
    }
   ],
   "source": [
    "grouped_df = df3.groupby('Item')['counts'].sum().reset_index()\n",
    "\n",
    "# Display the result\n",
    "print(grouped_df)"
   ]
  },
  {
   "cell_type": "code",
   "execution_count": null,
   "metadata": {},
   "outputs": [],
   "source": [
    "total_grouped = "
   ]
  },
  {
   "cell_type": "markdown",
   "metadata": {},
   "source": [
    "#### Get folder size using python"
   ]
  },
  {
   "cell_type": "code",
   "execution_count": 2,
   "metadata": {},
   "outputs": [
    {
     "name": "stdout",
     "output_type": "stream",
     "text": [
      "Folder size: 79787\n"
     ]
    }
   ],
   "source": [
    "import os\n",
    "\n",
    "size = 0\n",
    "\n",
    "folderpath = '/Users/patescalona/Projects/Coding/Python/python_practice'\n",
    "\n",
    "for path, dirs, files in os.walk(folderpath):\n",
    "    for f in files:\n",
    "        fp = os.path.join(path,f)\n",
    "        size += os.stat(fp).st_size\n",
    "\n",
    "print('Folder size: ' + str(size))"
   ]
  },
  {
   "cell_type": "markdown",
   "metadata": {},
   "source": [
    "#### Get file size"
   ]
  },
  {
   "cell_type": "code",
   "execution_count": 3,
   "metadata": {},
   "outputs": [
    {
     "name": "stdout",
     "output_type": "stream",
     "text": [
      "42169\n"
     ]
    }
   ],
   "source": [
    "import os\n",
    "\n",
    "size = 0\n",
    "\n",
    "folderpath = '/Users/patescalona/Projects/Coding/Python/python_practice'\n",
    "\n",
    "for ele in os.scandir(folderpath):\n",
    "    size += os.path.getsize(ele)\n",
    "\n",
    "print(size)"
   ]
  }
 ],
 "metadata": {
  "kernelspec": {
   "display_name": "Python 3",
   "language": "python",
   "name": "python3"
  },
  "language_info": {
   "codemirror_mode": {
    "name": "ipython",
    "version": 3
   },
   "file_extension": ".py",
   "mimetype": "text/x-python",
   "name": "python",
   "nbconvert_exporter": "python",
   "pygments_lexer": "ipython3",
   "version": "3.12.3"
  },
  "orig_nbformat": 4
 },
 "nbformat": 4,
 "nbformat_minor": 2
}
