{
 "cells": [
  {
   "cell_type": "code",
   "execution_count": 2,
   "metadata": {},
   "outputs": [
    {
     "name": "stdout",
     "output_type": "stream",
     "text": [
      "    Item  counts_x  counts_y\n",
      "0   tree        45        45\n",
      "1  house        44        12\n",
      "2  jello        34       234\n",
      "3     tv       786        67\n",
      "4   lamp        34        98\n"
     ]
    }
   ],
   "source": [
    "import pandas as pd\n",
    "\n",
    "# Read the Excel files into pandas DataFrames\n",
    "df1 = pd.read_excel('../python_practice/Book8.xlsx')\n",
    "df2 = pd.read_excel('../python_practice/Book9.xlsx')\n",
    "\n",
    "# Merge the DataFrames based on the first column (assuming it's named 'Item' in both tables)\n",
    "merged_df = pd.merge(df1, df2, on='Item')\n",
    "\n",
    "# Display the merged DataFrame\n",
    "print(merged_df)\n"
   ]
  },
  {
   "cell_type": "code",
   "execution_count": 5,
   "metadata": {},
   "outputs": [
    {
     "name": "stdout",
     "output_type": "stream",
     "text": [
      "house    2\n",
      "tree     2\n",
      "tv       2\n",
      "jello    2\n",
      "lamp     2\n",
      "frog     1\n",
      "Name: Item, dtype: int64\n"
     ]
    }
   ],
   "source": [
    "df3 = pd.read_excel('../python_practice/Book10.xlsx')\n",
    "\n",
    "totals = pd.value_counts(df3.Item)\n",
    "\n",
    "print(totals)"
   ]
  },
  {
   "cell_type": "code",
   "execution_count": 6,
   "metadata": {},
   "outputs": [
    {
     "name": "stdout",
     "output_type": "stream",
     "text": [
      "    Item  counts\n",
      "0   frog     657\n",
      "1  house      56\n",
      "2  jello     268\n",
      "3   lamp     132\n",
      "4   tree      90\n",
      "5     tv     853\n"
     ]
    }
   ],
   "source": [
    "grouped_df = df3.groupby('Item')['counts'].sum().reset_index()\n",
    "\n",
    "# Display the result\n",
    "print(grouped_df)"
   ]
  },
  {
   "cell_type": "code",
   "execution_count": null,
   "metadata": {},
   "outputs": [],
   "source": [
    "total_grouped = "
   ]
  },
  {
   "cell_type": "code",
   "execution_count": 8,
   "metadata": {},
   "outputs": [
    {
     "name": "stdout",
     "output_type": "stream",
     "text": [
      "/Users/patescalona/CrosstabOutput.sav\n"
     ]
    }
   ],
   "source": [
    "from tkinter import filedialog as fd\n",
    "\n",
    "path: str = fd.askopenfilename(title='Select a file')\n",
    "print(path)"
   ]
  },
  {
   "cell_type": "markdown",
   "metadata": {},
   "source": [
    "#### This script returns the file path to a selected file"
   ]
  },
  {
   "cell_type": "code",
   "execution_count": 7,
   "metadata": {},
   "outputs": [
    {
     "name": "stderr",
     "output_type": "stream",
     "text": [
      "2024-06-18 18:54:34.353 Python[4416:119542] WARNING: Secure coding is not enabled for restorable state! Enable secure coding by implementing NSApplicationDelegate.applicationSupportsSecureRestorableState: and returning YES.\n"
     ]
    },
    {
     "name": "stdout",
     "output_type": "stream",
     "text": [
      "/Users/patescalona/CrosstabOutput.sav\n"
     ]
    }
   ],
   "source": [
    "%%python3\n",
    "\n",
    "from tkinter import filedialog as fd\n",
    "\n",
    "path: str = fd.askopenfilename(title='Select a file')\n",
    "print(path)"
   ]
  }
 ],
 "metadata": {
  "kernelspec": {
   "display_name": "Python 3",
   "language": "python",
   "name": "python3"
  },
  "language_info": {
   "codemirror_mode": {
    "name": "ipython",
    "version": 3
   },
   "file_extension": ".py",
   "mimetype": "text/x-python",
   "name": "python",
   "nbconvert_exporter": "python",
   "pygments_lexer": "ipython3",
   "version": "3.10.6"
  },
  "orig_nbformat": 4
 },
 "nbformat": 4,
 "nbformat_minor": 2
}
